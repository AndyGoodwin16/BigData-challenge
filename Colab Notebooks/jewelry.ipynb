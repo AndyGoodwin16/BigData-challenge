{
  "cells": [
    {
      "cell_type": "code",
      "execution_count": 1,
      "metadata": {
        "colab": {
          "base_uri": "https://localhost:8080/"
        },
        "id": "uod2jDWFExYI",
        "outputId": "f0c24b04-c12a-44d3-a883-812bc566bced"
      },
      "outputs": [
        {
          "name": "stdout",
          "output_type": "stream",
          "text": [
            "Hit:1 https://cloud.r-project.org/bin/linux/ubuntu bionic-cran40/ InRelease\n",
            "Ign:2 https://developer.download.nvidia.com/compute/machine-learning/repos/ubuntu1804/x86_64  InRelease\n",
            "Hit:3 https://developer.download.nvidia.com/compute/cuda/repos/ubuntu1804/x86_64  InRelease\n",
            "Hit:4 http://ppa.launchpad.net/c2d4u.team/c2d4u4.0+/ubuntu bionic InRelease\n",
            "Hit:5 https://developer.download.nvidia.com/compute/machine-learning/repos/ubuntu1804/x86_64  Release\n",
            "Hit:6 http://security.ubuntu.com/ubuntu bionic-security InRelease\n",
            "Hit:7 http://archive.ubuntu.com/ubuntu bionic InRelease\n",
            "Hit:8 http://archive.ubuntu.com/ubuntu bionic-updates InRelease\n",
            "Hit:9 http://ppa.launchpad.net/cran/libgit2/ubuntu bionic InRelease\n",
            "Hit:10 http://archive.ubuntu.com/ubuntu bionic-backports InRelease\n",
            "Hit:12 http://ppa.launchpad.net/deadsnakes/ppa/ubuntu bionic InRelease\n",
            "Hit:13 http://ppa.launchpad.net/graphics-drivers/ppa/ubuntu bionic InRelease\n",
            "Reading package lists... Done\n"
          ]
        }
      ],
      "source": [
        "import os\n",
        "spark_version = 'spark-3.2.2'\n",
        "os.environ['SPARK_VERSION']=spark_version\n",
        "\n",
        "!apt-get update\n",
        "!apt-get install openjdk-8-jdk-headless -qq > /dev/null\n",
        "!wget -q http://www.apache.org/dist/spark/$SPARK_VERSION/$SPARK_VERSION-bin-hadoop2.7.tgz\n",
        "!tar xf $SPARK_VERSION-bin-hadoop2.7.tgz\n",
        "!pip install -q findspark\n",
        "\n",
        "os.environ[\"JAVA_HOME\"] = \"/usr/lib/jvm/java-8-openjdk-amd64\"\n",
        "os.environ[\"SPARK_HOME\"] = f\"/content/{spark_version}-bin-hadoop2.7\"\n",
        "\n",
        "import findspark\n",
        "findspark.init()"
      ]
    },
    {
      "cell_type": "code",
      "execution_count": 2,
      "metadata": {
        "colab": {
          "base_uri": "https://localhost:8080/"
        },
        "id": "qvPziAu5E-C6",
        "outputId": "55c5b642-f545-4185-e221-d78b0554779f"
      },
      "outputs": [
        {
          "name": "stdout",
          "output_type": "stream",
          "text": [
            "--2022-10-15 23:36:50--  https://jdbc.postgresql.org/download/postgresql-42.2.9.jar\n",
            "Resolving jdbc.postgresql.org (jdbc.postgresql.org)... 72.32.157.228, 2001:4800:3e1:1::228\n",
            "Connecting to jdbc.postgresql.org (jdbc.postgresql.org)|72.32.157.228|:443... connected.\n",
            "HTTP request sent, awaiting response... 200 OK\n",
            "Length: 914037 (893K) [application/java-archive]\n",
            "Saving to: ‘postgresql-42.2.9.jar.4’\n",
            "\n",
            "postgresql-42.2.9.j 100%[===================>] 892.61K  1.26MB/s    in 0.7s    \n",
            "\n",
            "2022-10-15 23:36:52 (1.26 MB/s) - ‘postgresql-42.2.9.jar.4’ saved [914037/914037]\n",
            "\n"
          ]
        }
      ],
      "source": [
        "!wget https://jdbc.postgresql.org/download/postgresql-42.2.9.jar"
      ]
    },
    {
      "cell_type": "code",
      "execution_count": 3,
      "metadata": {
        "id": "_yrWH-HqFEjg"
      },
      "outputs": [],
      "source": [
        "from pyspark.sql import SparkSession\n",
        "spark = SparkSession.builder.appName(\"jewelry_reviews\").config(\"spark.driver.extraClassPath\",\"/content/postgresql-42.2.9.jar\").getOrCreate()"
      ]
    },
    {
      "cell_type": "code",
      "execution_count": 4,
      "metadata": {
        "colab": {
          "base_uri": "https://localhost:8080/"
        },
        "id": "iBmyuSJTFiKr",
        "outputId": "004edfd9-d1c8-4a08-a498-f83410c0ba8e"
      },
      "outputs": [
        {
          "name": "stdout",
          "output_type": "stream",
          "text": [
            "+-----------+-----------+--------------+----------+--------------+--------------------+----------------+-----------+-------------+-----------+----+-----------------+--------------------+--------------------+-----------+\n",
            "|marketplace|customer_id|     review_id|product_id|product_parent|       product_title|product_category|star_rating|helpful_votes|total_votes|vine|verified_purchase|     review_headline|         review_body|review_date|\n",
            "+-----------+-----------+--------------+----------+--------------+--------------------+----------------+-----------+-------------+-----------+----+-----------------+--------------------+--------------------+-----------+\n",
            "|         US|   50423057|R135Q3VZ4DQN5N|B00JWXFDMG|     657335467|Everbling Purple ...|         Jewelry|          5|            0|          0|   N|                Y|           Beauties!|so beautiful even...| 2015-08-31|\n",
            "|         US|   11262325|R2N0QQ6R4T7YRY|B00W5T1H9W|      26030170|925 Sterling Silv...|         Jewelry|          5|            0|          0|   N|                N|      Great product.|Great product.. I...| 2015-08-31|\n",
            "|         US|   27541121|R3N5JE5Y4T6W5M|B00M2L6KFY|     697845240|Sterling Silver C...|         Jewelry|          5|            0|          0|   N|                Y|Exactly as pictur...|Exactly as pictur...| 2015-08-31|\n",
            "|         US|    5350721|R2I150CX5IVY9Q|B0006SW2WU|     569859289|Surgical Stainles...|         Jewelry|          5|            0|          0|   N|                Y|          Five Stars|Love it. Fits gre...| 2015-08-31|\n",
            "|         US|   24484424|R1RM9ICOOA9MQ3|B009YPDW70|     332947422|Sterling Silver F...|         Jewelry|          5|            0|          0|   N|                Y|... a Mother's Da...|Got this as a Mot...| 2015-08-31|\n",
            "|         US|     457767|R2J2KMDL10UMSH|B00QGA8XZM|     424804582|CHOOSE YOUR COLOR...|         Jewelry|          5|            0|          0|   N|                Y|          Five Stars|I Love It Make Me...| 2015-08-31|\n",
            "|         US|   31009358|R3R9ZUFA4TB4FQ|B00L0N0E8E|     589441783|Metal Factory 925...|         Jewelry|          5|            0|          0|   N|                Y|          Five Stars|True to size, unique| 2015-08-31|\n",
            "|         US|    7034628|R3UQ8VAQN7R6WL|B00DMWQKWA|     517428445|niceEshop(TM)Clas...|         Jewelry|          5|            0|          0|   N|                Y|          Five Stars|This necklace is ...| 2015-08-31|\n",
            "|         US|   34608636|R1FXZ69C01JNQM|B00THLHAGA|     320313750|Genuine Natural B...|         Jewelry|          5|            0|          0|   N|                Y|          Five Stars|        just perfect| 2015-08-31|\n",
            "|         US|   44972687| RY36LB4OW0FFS|B00UXSEOHY|     589365488|MBOX Expandable A...|         Jewelry|          5|            0|          0|   N|                Y|          Five Stars|           Love it !| 2015-08-31|\n",
            "|         US|   16684508| R6PKS54PC6ZY2|B00XGRYGVS|     217045013|Set of 3 Nose Rin...|         Jewelry|          1|            4|          4|   N|                Y|I had high hopes ...|They didn't even ...| 2015-08-31|\n",
            "|         US|   23493178|R1LYSAH0IECVWB|B00AJ2VU8A|     972853757|3-row White A Gra...|         Jewelry|          5|            0|          0|   N|                Y|This is a real ni...|This is a real ni...| 2015-08-31|\n",
            "|         US|     108294|R1UN0IZI3XQ3E2|B00LE5Y100|     979375701|KONOV Mens Stainl...|         Jewelry|          5|            2|          3|   N|                Y|             AMAZING|This is a very co...| 2015-08-31|\n",
            "|         US|   25810742| RIKDXD8QGL99S|B013E0AOH6|     619592796|TEMEGO Jewelry Me...|         Jewelry|          5|            1|          1|   N|                Y|          Five Stars|Great quality for...| 2015-08-31|\n",
            "|         US|   12037665| RUZCQTXZVGUFH|B00XAWUP96|     783863439|Royal Blue/White ...|         Jewelry|          4|            1|          1|   N|                Y|A Little Smaller ...|I like the bracel...| 2015-08-31|\n",
            "|         US|   51793466|R35CD4IHO3RP9H|B00WD82F1O|     655270378|10-11mm Baroque F...|         Jewelry|          5|            1|          1|   N|                Y|Pretty and Versatile|This is pretty an...| 2015-08-31|\n",
            "|         US|     127508|R13YD66XC9221U|B00JP4XCSO|     592155747|Sankuwen® Fashion...|         Jewelry|          1|            0|          0|   N|                N|Don't get this li...|Don't get this li...| 2015-08-31|\n",
            "|         US|   38430946| RHWG4JRVDSEYY|B00PZSM384|     622179716|zjskin6688 store ...|         Jewelry|          3|            1|          1|   N|                Y|         Three Stars|Not what I expect...| 2015-08-31|\n",
            "|         US|   33684654|R3SPIKMJ5IWHX8|B00VLMW18K|      36759824|Scheppend Polymer...|         Jewelry|          4|            0|          0|   N|                Y|          Four Stars|Bought these for ...| 2015-08-31|\n",
            "|         US|    5068631| RS19ACU7KWWNE|B00U5LDBB4|     575109200|Horizontal Sidewa...|         Jewelry|          5|            1|          1|   N|                Y|          Five Stars|Pretty, and very ...| 2015-08-31|\n",
            "+-----------+-----------+--------------+----------+--------------+--------------------+----------------+-----------+-------------+-----------+----+-----------------+--------------------+--------------------+-----------+\n",
            "only showing top 20 rows\n",
            "\n"
          ]
        }
      ],
      "source": [
        "from pyspark import SparkFiles\n",
        "url=\"https://s3.amazonaws.com/amazon-reviews-pds/tsv/amazon_reviews_us_Jewelry_v1_00.tsv.gz\" \n",
        "\n",
        "spark.sparkContext.addFile(url)\n",
        "jewelry_data_df = spark.read.csv(SparkFiles.get(\"amazon_reviews_us_Jewelry_v1_00.tsv.gz\"), sep=\"\\t\", header=True, inferSchema=True)\n",
        "\n",
        "jewelry_data_df.show()"
      ]
    },
    {
      "cell_type": "code",
      "execution_count": 5,
      "metadata": {
        "colab": {
          "base_uri": "https://localhost:8080/"
        },
        "id": "MtW7RZ8xGN65",
        "outputId": "b3a66816-b115-494e-c146-7d5dfe1b3cd1"
      },
      "outputs": [
        {
          "data": {
            "text/plain": [
              "1767753"
            ]
          },
          "execution_count": 5,
          "metadata": {},
          "output_type": "execute_result"
        }
      ],
      "source": [
        "jewelry_data_df.count()"
      ]
    },
    {
      "cell_type": "code",
      "execution_count": 6,
      "metadata": {
        "colab": {
          "base_uri": "https://localhost:8080/"
        },
        "id": "Lpke_BvqGTEw",
        "outputId": "cf0bfbcb-0d90-4116-808c-8934926b188d"
      },
      "outputs": [
        {
          "data": {
            "text/plain": [
              "1767394"
            ]
          },
          "execution_count": 6,
          "metadata": {},
          "output_type": "execute_result"
        }
      ],
      "source": [
        "jewelry_data_df = jewelry_data_df.dropna(how='any')\n",
        "jewelry_data_df = jewelry_data_df.dropDuplicates()\n",
        "jewelry_data_df.count()"
      ]
    },
    {
      "cell_type": "code",
      "execution_count": 7,
      "metadata": {
        "colab": {
          "base_uri": "https://localhost:8080/"
        },
        "id": "jLb9itP_HKZW",
        "outputId": "8aa46a79-3e77-4b0f-8778-72ec2456b659"
      },
      "outputs": [
        {
          "name": "stdout",
          "output_type": "stream",
          "text": [
            "root\n",
            " |-- marketplace: string (nullable = true)\n",
            " |-- customer_id: integer (nullable = true)\n",
            " |-- review_id: string (nullable = true)\n",
            " |-- product_id: string (nullable = true)\n",
            " |-- product_parent: integer (nullable = true)\n",
            " |-- product_title: string (nullable = true)\n",
            " |-- product_category: string (nullable = true)\n",
            " |-- star_rating: string (nullable = true)\n",
            " |-- helpful_votes: integer (nullable = true)\n",
            " |-- total_votes: integer (nullable = true)\n",
            " |-- vine: string (nullable = true)\n",
            " |-- verified_purchase: string (nullable = true)\n",
            " |-- review_headline: string (nullable = true)\n",
            " |-- review_body: string (nullable = true)\n",
            " |-- review_date: string (nullable = true)\n",
            "\n"
          ]
        }
      ],
      "source": [
        "jewelry_data_df.printSchema()"
      ]
    },
    {
      "cell_type": "code",
      "execution_count": 8,
      "metadata": {
        "colab": {
          "base_uri": "https://localhost:8080/"
        },
        "id": "vJMX2nptIAuN",
        "outputId": "a35f3373-51cd-4dd8-fb60-d154a9382ae4"
      },
      "outputs": [
        {
          "name": "stdout",
          "output_type": "stream",
          "text": [
            "root\n",
            " |-- marketplace: string (nullable = true)\n",
            " |-- customer_id: integer (nullable = true)\n",
            " |-- review_id: string (nullable = true)\n",
            " |-- product_id: string (nullable = true)\n",
            " |-- product_parent: integer (nullable = true)\n",
            " |-- product_title: string (nullable = true)\n",
            " |-- product_category: string (nullable = true)\n",
            " |-- star_rating: string (nullable = true)\n",
            " |-- helpful_votes: integer (nullable = true)\n",
            " |-- total_votes: integer (nullable = true)\n",
            " |-- vine: string (nullable = true)\n",
            " |-- verified_purchase: string (nullable = true)\n",
            " |-- review_headline: string (nullable = true)\n",
            " |-- review_body: string (nullable = true)\n",
            " |-- review_date: date (nullable = true)\n",
            "\n"
          ]
        }
      ],
      "source": [
        "from pyspark.sql.functions import col\n",
        "from pyspark.sql.types import DateType, IntegerType\n",
        "jewelry_data_df = jewelry_data_df.withColumn(\"review_date\",col(\"review_date\").cast(DateType()))\n",
        "jewelry_data_df.printSchema()"
      ]
    },
    {
      "cell_type": "code",
      "execution_count": 9,
      "metadata": {
        "colab": {
          "base_uri": "https://localhost:8080/"
        },
        "id": "to238amvJHuo",
        "outputId": "4d4d4768-2121-49bb-d085-26d22e99b42e"
      },
      "outputs": [
        {
          "name": "stdout",
          "output_type": "stream",
          "text": [
            "+--------------+-----------+----------+--------------+-----------+\n",
            "|     review_id|customer_id|product_id|product_parent|review_date|\n",
            "+--------------+-----------+----------+--------------+-----------+\n",
            "|R1000SHT04I05Z|   10989386|B00BC9ZCFQ|     412268594| 2013-08-04|\n",
            "|R100L48N7NQJOM|   18778022|B0098Z105W|     498518502| 2014-09-29|\n",
            "|R100W5CE099235|   23281221|B00G4EKH86|     258430791| 2014-05-23|\n",
            "|R101L2Z28VA8ZM|   21148835|B00O96VYY2|     736039112| 2014-12-25|\n",
            "|R101NZ4EWORURU|   45435568|B00C1G4LME|     345456390| 2013-09-26|\n",
            "|R103I4TR9XD1VU|   15934715|B0040UMTDW|     913517322| 2012-01-01|\n",
            "|R10451EZEGTTJ4|   18019354|B008SOTSEY|     707188081| 2014-10-23|\n",
            "|R10454XRBFGGLU|   23200310|B003XYMXLY|     665660556| 2015-02-19|\n",
            "|R1046FPO0U5JQZ|    6629323|B00VKNYBR4|     614133040| 2015-07-23|\n",
            "|R104Q26FWKPR4N|   39979029|B003XT5ZZK|     290581820| 2014-05-02|\n",
            "|R104SFUWPZGNKA|   31462035|B009R87SQU|     235825103| 2013-02-08|\n",
            "|R1058QWV77ZW6R|   12344334|B00GOZUIZC|     713409458| 2014-05-08|\n",
            "|R105CYSX0JNXQR|   16401504|B00E3RCU5O|     824475145| 2015-03-09|\n",
            "|R106A76VCQU3TY|    9021743|B00D77B47G|      44422731| 2015-02-24|\n",
            "|R106M0W8XXBDC5|    9828180|B004JF5JRG|     911886255| 2013-02-21|\n",
            "|R108C97AUOYJSZ|   51280345|B005V30TP2|     119084879| 2013-01-05|\n",
            "|R108PM7WGRSYQP|   47919589|B0051BHOE8|     134129688| 2012-12-22|\n",
            "|R108XXN04GX5B7|   35712429|B00874LMGW|     335544633| 2012-12-28|\n",
            "|R109N6RLYVQCCO|   37665789|B004ZJPSK4|     608313880| 2012-12-11|\n",
            "|R109PIOPE2CHRW|   47687512|B00D984CU4|     228459057| 2014-02-16|\n",
            "+--------------+-----------+----------+--------------+-----------+\n",
            "only showing top 20 rows\n",
            "\n"
          ]
        }
      ],
      "source": [
        "review_id_table = jewelry_data_df[\"review_id\", \"customer_id\", \"product_id\", \"product_parent\", \"review_date\"]\n",
        "review_id_table.show()"
      ]
    },
    {
      "cell_type": "code",
      "execution_count": 10,
      "metadata": {
        "colab": {
          "base_uri": "https://localhost:8080/"
        },
        "id": "kpQpnKnzJqDL",
        "outputId": "7a98bc16-a9f3-4d94-f664-36083beea820"
      },
      "outputs": [
        {
          "name": "stdout",
          "output_type": "stream",
          "text": [
            "+----------+--------------------+\n",
            "|product_id|       product_title|\n",
            "+----------+--------------------+\n",
            "|B00LHJMHVS|FAIRY COUPLE Wome...|\n",
            "|B00TPWQ6I4|Chic Alert Medica...|\n",
            "|B00P837QR4|The Original Roll...|\n",
            "|B00L280CN4|10pcs 18\" 18 Inch...|\n",
            "|B00KGU5T4Q|KONOV Mens Stainl...|\n",
            "|B00JHF388K|Sterling Silver w...|\n",
            "|B00FB05CES|CHOOSE YOUR COLOR...|\n",
            "|B00D4KUMQ0|INBLUE Men's Stai...|\n",
            "|B00GTCD2X0|Beautiful Carved ...|\n",
            "|B00QUHZQP6|Authentic Chamili...|\n",
            "|B00NJ317T8|Smitco LLC Silver...|\n",
            "|B00658M8EC|925 Sterling Silv...|\n",
            "|B00L43PV2Y|Hydia Steel Jewel...|\n",
            "|B00U24CSP4|Platinum-Plated S...|\n",
            "|B006OHTHZ2|316L Stainless St...|\n",
            "|B00QW72KDA|PiercingJ Pair 12...|\n",
            "|B006VN35L6|5mm Stainless Ste...|\n",
            "|B00CGID7PY|925 Sterling Silv...|\n",
            "|B00TXHSXWI|Silver Forest Kno...|\n",
            "|B004Z1EQRS|PammyJ Silvertone...|\n",
            "+----------+--------------------+\n",
            "only showing top 20 rows\n",
            "\n"
          ]
        }
      ],
      "source": [
        "products = jewelry_data_df[\"product_id\", \"product_title\"]\n",
        "products = products.dropDuplicates()\n",
        "products.show()"
      ]
    },
    {
      "cell_type": "code",
      "execution_count": 11,
      "metadata": {
        "colab": {
          "base_uri": "https://localhost:8080/"
        },
        "id": "fI2BqIl9J-Wx",
        "outputId": "8f18d8fa-f500-4569-f851-32b1b3f33c07"
      },
      "outputs": [
        {
          "name": "stdout",
          "output_type": "stream",
          "text": [
            "+-----------+--------------+\n",
            "|customer_id|customer_count|\n",
            "+-----------+--------------+\n",
            "|   14542376|            11|\n",
            "|     195263|             2|\n",
            "|     726270|             1|\n",
            "|   43776283|             1|\n",
            "|    2074030|             8|\n",
            "|   18503260|             2|\n",
            "|   46017005|             1|\n",
            "|   52807885|             1|\n",
            "|   47816064|             1|\n",
            "|   43156541|             1|\n",
            "|   16200102|             6|\n",
            "|   20665363|             1|\n",
            "|   18194793|             1|\n",
            "|   21440635|             2|\n",
            "|    3065770|             1|\n",
            "|   37392783|             5|\n",
            "|   13627727|             1|\n",
            "|   16260707|            14|\n",
            "|   37398268|             1|\n",
            "|   27716699|             3|\n",
            "+-----------+--------------+\n",
            "only showing top 20 rows\n",
            "\n"
          ]
        }
      ],
      "source": [
        "customers = jewelry_data_df.groupBy(\"customer_id\").count()\n",
        "customers = customers.withColumn(\"count\",col(\"count\").cast(IntegerType()))\n",
        "customers = customers.withColumnRenamed(\"count\", \"customer_count\")\n",
        "customers.show()"
      ]
    },
    {
      "cell_type": "code",
      "execution_count": 12,
      "metadata": {
        "colab": {
          "base_uri": "https://localhost:8080/"
        },
        "id": "vkapXGNIMWEV",
        "outputId": "f274f09f-1732-43de-b846-6660ffa56706"
      },
      "outputs": [
        {
          "name": "stdout",
          "output_type": "stream",
          "text": [
            "+--------------+-----------+-------------+-----------+----+\n",
            "|     review_id|star_rating|helpful_votes|total_votes|vine|\n",
            "+--------------+-----------+-------------+-----------+----+\n",
            "|R1000SHT04I05Z|          4|            1|          1|   N|\n",
            "|R100L48N7NQJOM|          5|            0|          0|   N|\n",
            "|R100W5CE099235|          1|            3|          3|   N|\n",
            "|R101L2Z28VA8ZM|          5|            0|          0|   N|\n",
            "|R101NZ4EWORURU|          5|            0|          0|   N|\n",
            "|R103I4TR9XD1VU|          4|            0|          1|   N|\n",
            "|R10451EZEGTTJ4|          5|            0|          0|   N|\n",
            "|R10454XRBFGGLU|          4|            0|          0|   N|\n",
            "|R1046FPO0U5JQZ|          4|            1|          1|   N|\n",
            "|R104Q26FWKPR4N|          5|            2|          3|   N|\n",
            "|R104SFUWPZGNKA|          5|            0|          0|   N|\n",
            "|R1058QWV77ZW6R|          3|            1|          1|   N|\n",
            "|R105CYSX0JNXQR|          1|            1|          1|   N|\n",
            "|R106A76VCQU3TY|          5|            0|          0|   N|\n",
            "|R106M0W8XXBDC5|          5|            0|          0|   N|\n",
            "|R108C97AUOYJSZ|          5|            4|          4|   N|\n",
            "|R108PM7WGRSYQP|          1|            5|          5|   N|\n",
            "|R108XXN04GX5B7|          2|            1|          2|   N|\n",
            "|R109N6RLYVQCCO|          4|            0|          0|   N|\n",
            "|R109PIOPE2CHRW|          1|            0|          0|   N|\n",
            "+--------------+-----------+-------------+-----------+----+\n",
            "only showing top 20 rows\n",
            "\n"
          ]
        }
      ],
      "source": [
        "vine_table = jewelry_data_df[\"review_id\", \"star_rating\", \"helpful_votes\", \"total_votes\", \"vine\"]\n",
        "vine_table = vine_table.withColumn(\"star_rating\",col(\"star_rating\").cast(IntegerType()))\n",
        "vine_table.show()"
      ]
    },
    {
      "cell_type": "code",
      "execution_count": 15,
      "metadata": {
        "id": "ejlUXWusM-K4"
      },
      "outputs": [],
      "source": [
        "mode = \"append\"\n",
        "jdbc_url=\"jdbc:postgresql://<insert link to RDS here>:5432/<insert database name here>\"\n",
        "config = {\"user\":\"root\", \n",
        "          \"password\": \"<insert password here>\", \n",
        "          \"driver\":\"org.postgresql.Driver\"}"
      ]
    },
    {
      "cell_type": "code",
      "execution_count": 16,
      "metadata": {
        "id": "lLZgJQXq_kn3"
      },
      "outputs": [],
      "source": [
        "review_id_table.write.jdbc(url=jdbc_url, table='review_id_table', mode=mode, properties=config)"
      ]
    },
    {
      "cell_type": "code",
      "execution_count": 17,
      "metadata": {
        "id": "EHh1_dD2_lvE"
      },
      "outputs": [],
      "source": [
        "products.write.jdbc(url=jdbc_url, table='products', mode=mode, properties=config)"
      ]
    },
    {
      "cell_type": "code",
      "execution_count": 18,
      "metadata": {
        "id": "L04oZ7brNBvC"
      },
      "outputs": [],
      "source": [
        "customers.write.jdbc(url=jdbc_url, table='customers', mode=mode, properties=config)"
      ]
    },
    {
      "cell_type": "code",
      "execution_count": 19,
      "metadata": {
        "id": "Qx2vTx04_fCi"
      },
      "outputs": [],
      "source": [
        "vine_table.write.jdbc(url=jdbc_url, table='vine_table', mode=mode, properties=config)"
      ]
    }
  ],
  "metadata": {
    "colab": {
      "collapsed_sections": [],
      "provenance": []
    },
    "kernelspec": {
      "display_name": "Python 3.10.8 64-bit (microsoft store)",
      "language": "python",
      "name": "python3"
    },
    "language_info": {
      "name": "python",
      "version": "3.10.8"
    },
    "vscode": {
      "interpreter": {
        "hash": "9595beb876e8e55a49d32a4c8c62585e6e708f2a16247c57fb5a31b50e00f45f"
      }
    }
  },
  "nbformat": 4,
  "nbformat_minor": 0
}
